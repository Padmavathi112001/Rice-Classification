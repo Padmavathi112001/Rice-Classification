{
 "cells": [
  {
   "cell_type": "markdown",
   "id": "df38d5c9-f387-4656-aa2a-18605229bb7b",
   "metadata": {},
   "source": [
    "# Project Title: Rice Type Classification Using Machine Learning Algorithms"
   ]
  },
  {
   "cell_type": "markdown",
   "id": "a5ae2514-f7f9-4a1b-ad73-b896eb1c70ca",
   "metadata": {},
   "source": [
    "## Description:\n",
    "1. The objective of this project is to automatically classify different types of rice using machine learning.\n",
    "\n",
    "2. Instead of checking rice quality manually, this system uses images of rice grains to identify the correct type (like Basmati, Jasmine, Arborio, or Ipsala).\n",
    "\n",
    "3. This helps save time, reduce mistakes, and ensure better quality control in rice production and packaging."
   ]
  },
  {
   "cell_type": "markdown",
   "id": "365b20dd-6683-4a76-88c9-71d6bd07a7ae",
   "metadata": {},
   "source": [
    "## Steps:\n",
    "\n",
    "1. Import all required libraries\n",
    "\n",
    "2. Load and prepare the rice dataset\n",
    "\n",
    "3. Display sample images of each rice type\n",
    "\n",
    "4. Build the rice classification model using VGG16\n",
    "\n",
    "5. Train the model with training data\n",
    "\n",
    "6. Check model accuracy and loss after training\n",
    "\n",
    "7. Evaluate the model performance on validation data\n",
    "\n",
    "8. Predict the rice type for new/test images\n",
    "\n",
    "9. Analyze prediction confidence and errors\n",
    "\n",
    "10. Show 3D feature visualization and world rice map"
   ]
  },
  {
   "cell_type": "markdown",
   "id": "e0645592-fc86-4395-bf08-09e362db2054",
   "metadata": {},
   "source": [
    "### Codes:"
   ]
  },
  {
   "cell_type": "markdown",
   "id": "03353e32-99f0-41dc-9d77-97279d2f3db6",
   "metadata": {},
   "source": [
    "### Step 1: Import Libraries"
   ]
  },
  {
   "cell_type": "markdown",
   "id": "58b908c9-290f-4a29-bb7a-c0f460ff33bf",
   "metadata": {},
   "source": [
    "#### These libraries are needed to load rice images, build and train a deep learning model (VGG16), make predictions, evaluate performance, and visualize results.\n",
    "\n"
   ]
  },
  {
   "cell_type": "code",
   "execution_count": 12,
   "id": "e9aa1d11-240f-469c-8edf-d23de09efce1",
   "metadata": {},
   "outputs": [],
   "source": [
    "import os  # For file and folder access\n",
    "import numpy as np  # For working with image data\n",
    "import matplotlib.pyplot as plt  # For plotting results\n",
    "\n",
    "# For loading and preparing image data\n",
    "from tensorflow.keras.preprocessing.image import ImageDataGenerator, load_img, img_to_array\n",
    "\n",
    "# For using a pre-trained model and image preprocessing\n",
    "from tensorflow.keras.applications.vgg16 import VGG16, preprocess_input\n",
    "\n",
    "# For creating a custom model\n",
    "from tensorflow.keras.models import Model\n",
    "\n",
    "# For adding layers to the model\n",
    "from tensorflow.keras.layers import Flatten, Dense, Dropout\n",
    "\n",
    "# For optimizing model training\n",
    "from tensorflow.keras.optimizers import Adam\n",
    "\n",
    "# For evaluating model predictions\n",
    "from sklearn.metrics import confusion_matrix, ConfusionMatrixDisplay\n",
    "\n",
    "import random  # For picking random test images"
   ]
  },
  {
   "cell_type": "markdown",
   "id": "0b52b229-bc7b-4221-bb7e-c1581f260282",
   "metadata": {},
   "source": [
    "### Step 2: Load the  Dataset"
   ]
  },
  {
   "cell_type": "markdown",
   "id": "8316e0af-178d-4175-a266-b01984398f96",
   "metadata": {},
   "source": [
    "#### Used to load rice images from folders, resize them, split them into training and validation sets, and get the class names."
   ]
  },
  {
   "cell_type": "code",
   "execution_count": 19,
   "id": "bdc5fa00-d200-4e66-8015-427b7daaafc5",
   "metadata": {},
   "outputs": [
    {
     "name": "stdout",
     "output_type": "stream",
     "text": [
      "Found 80 images belonging to 4 classes.\n",
      "Found 20 images belonging to 4 classes.\n"
     ]
    }
   ],
   "source": [
    "data_dir = r\"C:\\Users\\LENOVO\\Downloads\\Rice Classification\"  # Folder where rice images are stored\n",
    "\n",
    "img_height, img_width = 224, 224  # Resize all images to this size\n",
    "batch_size = 32  # Number of images processed at once during training\n",
    "\n",
    "# Prepares image data and splits it into training and validation sets\n",
    "datagen = ImageDataGenerator(preprocessing_function=preprocess_input, validation_split=0.2)\n",
    "\n",
    "# Loads training images from the folder\n",
    "train_gen = datagen.flow_from_directory(\n",
    "    data_dir,  # Path to rice image folders\n",
    "    target_size=(img_height, img_width),  # Resize images\n",
    "    batch_size=batch_size,  # Number of images in each batch\n",
    "    class_mode='categorical',  # Multi-class labels (4 rice types)\n",
    "    subset='training'  # Use this for training\n",
    ")\n",
    "\n",
    "# Loads validation images from the folder\n",
    "val_gen = datagen.flow_from_directory(\n",
    "    data_dir,  # Same folder as training\n",
    "    target_size=(img_height, img_width),  # Same image size\n",
    "    batch_size=batch_size,  # Same batch size\n",
    "    class_mode='categorical',  # Same class mode\n",
    "    subset='validation'  # Use this for validation\n",
    ")\n",
    "\n",
    "class_names = list(train_gen.class_indices.keys())  # Get rice class names (e.g., Basmati, Jasmine)\n"
   ]
  },
  {
   "cell_type": "markdown",
   "id": "27b9bf38-da41-43ad-9557-00890f8ea5fa",
   "metadata": {},
   "source": [
    "### Step 3: Build Model Using VGG16"
   ]
  },
  {
   "cell_type": "markdown",
   "id": "40af778e-fb4c-435e-9474-e26698c4d354",
   "metadata": {},
   "source": [
    "#### VGG16 helps to read image features. We add layers to classify rice types and make the model ready to train."
   ]
  },
  {
   "cell_type": "code",
   "execution_count": 30,
   "id": "0a669f6d-2e88-4584-903c-ba45f8421556",
   "metadata": {},
   "outputs": [
    {
     "data": {
      "text/html": [
       "<pre style=\"white-space:pre;overflow-x:auto;line-height:normal;font-family:Menlo,'DejaVu Sans Mono',consolas,'Courier New',monospace\"><span style=\"font-weight: bold\">Model: \"functional\"</span>\n",
       "</pre>\n"
      ],
      "text/plain": [
       "\u001b[1mModel: \"functional\"\u001b[0m\n"
      ]
     },
     "metadata": {},
     "output_type": "display_data"
    },
    {
     "data": {
      "text/html": [
       "<pre style=\"white-space:pre;overflow-x:auto;line-height:normal;font-family:Menlo,'DejaVu Sans Mono',consolas,'Courier New',monospace\">┏━━━━━━━━━━━━━━━━━━━━━━━━━━━━━━━━━━━━━━┳━━━━━━━━━━━━━━━━━━━━━━━━━━━━━┳━━━━━━━━━━━━━━━━━┓\n",
       "┃<span style=\"font-weight: bold\"> Layer (type)                         </span>┃<span style=\"font-weight: bold\"> Output Shape                </span>┃<span style=\"font-weight: bold\">         Param # </span>┃\n",
       "┡━━━━━━━━━━━━━━━━━━━━━━━━━━━━━━━━━━━━━━╇━━━━━━━━━━━━━━━━━━━━━━━━━━━━━╇━━━━━━━━━━━━━━━━━┩\n",
       "│ input_layer (<span style=\"color: #0087ff; text-decoration-color: #0087ff\">InputLayer</span>)             │ (<span style=\"color: #00d7ff; text-decoration-color: #00d7ff\">None</span>, <span style=\"color: #00af00; text-decoration-color: #00af00\">224</span>, <span style=\"color: #00af00; text-decoration-color: #00af00\">224</span>, <span style=\"color: #00af00; text-decoration-color: #00af00\">3</span>)         │               <span style=\"color: #00af00; text-decoration-color: #00af00\">0</span> │\n",
       "├──────────────────────────────────────┼─────────────────────────────┼─────────────────┤\n",
       "│ block1_conv1 (<span style=\"color: #0087ff; text-decoration-color: #0087ff\">Conv2D</span>)                │ (<span style=\"color: #00d7ff; text-decoration-color: #00d7ff\">None</span>, <span style=\"color: #00af00; text-decoration-color: #00af00\">224</span>, <span style=\"color: #00af00; text-decoration-color: #00af00\">224</span>, <span style=\"color: #00af00; text-decoration-color: #00af00\">64</span>)        │           <span style=\"color: #00af00; text-decoration-color: #00af00\">1,792</span> │\n",
       "├──────────────────────────────────────┼─────────────────────────────┼─────────────────┤\n",
       "│ block1_conv2 (<span style=\"color: #0087ff; text-decoration-color: #0087ff\">Conv2D</span>)                │ (<span style=\"color: #00d7ff; text-decoration-color: #00d7ff\">None</span>, <span style=\"color: #00af00; text-decoration-color: #00af00\">224</span>, <span style=\"color: #00af00; text-decoration-color: #00af00\">224</span>, <span style=\"color: #00af00; text-decoration-color: #00af00\">64</span>)        │          <span style=\"color: #00af00; text-decoration-color: #00af00\">36,928</span> │\n",
       "├──────────────────────────────────────┼─────────────────────────────┼─────────────────┤\n",
       "│ block1_pool (<span style=\"color: #0087ff; text-decoration-color: #0087ff\">MaxPooling2D</span>)           │ (<span style=\"color: #00d7ff; text-decoration-color: #00d7ff\">None</span>, <span style=\"color: #00af00; text-decoration-color: #00af00\">112</span>, <span style=\"color: #00af00; text-decoration-color: #00af00\">112</span>, <span style=\"color: #00af00; text-decoration-color: #00af00\">64</span>)        │               <span style=\"color: #00af00; text-decoration-color: #00af00\">0</span> │\n",
       "├──────────────────────────────────────┼─────────────────────────────┼─────────────────┤\n",
       "│ block2_conv1 (<span style=\"color: #0087ff; text-decoration-color: #0087ff\">Conv2D</span>)                │ (<span style=\"color: #00d7ff; text-decoration-color: #00d7ff\">None</span>, <span style=\"color: #00af00; text-decoration-color: #00af00\">112</span>, <span style=\"color: #00af00; text-decoration-color: #00af00\">112</span>, <span style=\"color: #00af00; text-decoration-color: #00af00\">128</span>)       │          <span style=\"color: #00af00; text-decoration-color: #00af00\">73,856</span> │\n",
       "├──────────────────────────────────────┼─────────────────────────────┼─────────────────┤\n",
       "│ block2_conv2 (<span style=\"color: #0087ff; text-decoration-color: #0087ff\">Conv2D</span>)                │ (<span style=\"color: #00d7ff; text-decoration-color: #00d7ff\">None</span>, <span style=\"color: #00af00; text-decoration-color: #00af00\">112</span>, <span style=\"color: #00af00; text-decoration-color: #00af00\">112</span>, <span style=\"color: #00af00; text-decoration-color: #00af00\">128</span>)       │         <span style=\"color: #00af00; text-decoration-color: #00af00\">147,584</span> │\n",
       "├──────────────────────────────────────┼─────────────────────────────┼─────────────────┤\n",
       "│ block2_pool (<span style=\"color: #0087ff; text-decoration-color: #0087ff\">MaxPooling2D</span>)           │ (<span style=\"color: #00d7ff; text-decoration-color: #00d7ff\">None</span>, <span style=\"color: #00af00; text-decoration-color: #00af00\">56</span>, <span style=\"color: #00af00; text-decoration-color: #00af00\">56</span>, <span style=\"color: #00af00; text-decoration-color: #00af00\">128</span>)         │               <span style=\"color: #00af00; text-decoration-color: #00af00\">0</span> │\n",
       "├──────────────────────────────────────┼─────────────────────────────┼─────────────────┤\n",
       "│ block3_conv1 (<span style=\"color: #0087ff; text-decoration-color: #0087ff\">Conv2D</span>)                │ (<span style=\"color: #00d7ff; text-decoration-color: #00d7ff\">None</span>, <span style=\"color: #00af00; text-decoration-color: #00af00\">56</span>, <span style=\"color: #00af00; text-decoration-color: #00af00\">56</span>, <span style=\"color: #00af00; text-decoration-color: #00af00\">256</span>)         │         <span style=\"color: #00af00; text-decoration-color: #00af00\">295,168</span> │\n",
       "├──────────────────────────────────────┼─────────────────────────────┼─────────────────┤\n",
       "│ block3_conv2 (<span style=\"color: #0087ff; text-decoration-color: #0087ff\">Conv2D</span>)                │ (<span style=\"color: #00d7ff; text-decoration-color: #00d7ff\">None</span>, <span style=\"color: #00af00; text-decoration-color: #00af00\">56</span>, <span style=\"color: #00af00; text-decoration-color: #00af00\">56</span>, <span style=\"color: #00af00; text-decoration-color: #00af00\">256</span>)         │         <span style=\"color: #00af00; text-decoration-color: #00af00\">590,080</span> │\n",
       "├──────────────────────────────────────┼─────────────────────────────┼─────────────────┤\n",
       "│ block3_conv3 (<span style=\"color: #0087ff; text-decoration-color: #0087ff\">Conv2D</span>)                │ (<span style=\"color: #00d7ff; text-decoration-color: #00d7ff\">None</span>, <span style=\"color: #00af00; text-decoration-color: #00af00\">56</span>, <span style=\"color: #00af00; text-decoration-color: #00af00\">56</span>, <span style=\"color: #00af00; text-decoration-color: #00af00\">256</span>)         │         <span style=\"color: #00af00; text-decoration-color: #00af00\">590,080</span> │\n",
       "├──────────────────────────────────────┼─────────────────────────────┼─────────────────┤\n",
       "│ block3_pool (<span style=\"color: #0087ff; text-decoration-color: #0087ff\">MaxPooling2D</span>)           │ (<span style=\"color: #00d7ff; text-decoration-color: #00d7ff\">None</span>, <span style=\"color: #00af00; text-decoration-color: #00af00\">28</span>, <span style=\"color: #00af00; text-decoration-color: #00af00\">28</span>, <span style=\"color: #00af00; text-decoration-color: #00af00\">256</span>)         │               <span style=\"color: #00af00; text-decoration-color: #00af00\">0</span> │\n",
       "├──────────────────────────────────────┼─────────────────────────────┼─────────────────┤\n",
       "│ block4_conv1 (<span style=\"color: #0087ff; text-decoration-color: #0087ff\">Conv2D</span>)                │ (<span style=\"color: #00d7ff; text-decoration-color: #00d7ff\">None</span>, <span style=\"color: #00af00; text-decoration-color: #00af00\">28</span>, <span style=\"color: #00af00; text-decoration-color: #00af00\">28</span>, <span style=\"color: #00af00; text-decoration-color: #00af00\">512</span>)         │       <span style=\"color: #00af00; text-decoration-color: #00af00\">1,180,160</span> │\n",
       "├──────────────────────────────────────┼─────────────────────────────┼─────────────────┤\n",
       "│ block4_conv2 (<span style=\"color: #0087ff; text-decoration-color: #0087ff\">Conv2D</span>)                │ (<span style=\"color: #00d7ff; text-decoration-color: #00d7ff\">None</span>, <span style=\"color: #00af00; text-decoration-color: #00af00\">28</span>, <span style=\"color: #00af00; text-decoration-color: #00af00\">28</span>, <span style=\"color: #00af00; text-decoration-color: #00af00\">512</span>)         │       <span style=\"color: #00af00; text-decoration-color: #00af00\">2,359,808</span> │\n",
       "├──────────────────────────────────────┼─────────────────────────────┼─────────────────┤\n",
       "│ block4_conv3 (<span style=\"color: #0087ff; text-decoration-color: #0087ff\">Conv2D</span>)                │ (<span style=\"color: #00d7ff; text-decoration-color: #00d7ff\">None</span>, <span style=\"color: #00af00; text-decoration-color: #00af00\">28</span>, <span style=\"color: #00af00; text-decoration-color: #00af00\">28</span>, <span style=\"color: #00af00; text-decoration-color: #00af00\">512</span>)         │       <span style=\"color: #00af00; text-decoration-color: #00af00\">2,359,808</span> │\n",
       "├──────────────────────────────────────┼─────────────────────────────┼─────────────────┤\n",
       "│ block4_pool (<span style=\"color: #0087ff; text-decoration-color: #0087ff\">MaxPooling2D</span>)           │ (<span style=\"color: #00d7ff; text-decoration-color: #00d7ff\">None</span>, <span style=\"color: #00af00; text-decoration-color: #00af00\">14</span>, <span style=\"color: #00af00; text-decoration-color: #00af00\">14</span>, <span style=\"color: #00af00; text-decoration-color: #00af00\">512</span>)         │               <span style=\"color: #00af00; text-decoration-color: #00af00\">0</span> │\n",
       "├──────────────────────────────────────┼─────────────────────────────┼─────────────────┤\n",
       "│ block5_conv1 (<span style=\"color: #0087ff; text-decoration-color: #0087ff\">Conv2D</span>)                │ (<span style=\"color: #00d7ff; text-decoration-color: #00d7ff\">None</span>, <span style=\"color: #00af00; text-decoration-color: #00af00\">14</span>, <span style=\"color: #00af00; text-decoration-color: #00af00\">14</span>, <span style=\"color: #00af00; text-decoration-color: #00af00\">512</span>)         │       <span style=\"color: #00af00; text-decoration-color: #00af00\">2,359,808</span> │\n",
       "├──────────────────────────────────────┼─────────────────────────────┼─────────────────┤\n",
       "│ block5_conv2 (<span style=\"color: #0087ff; text-decoration-color: #0087ff\">Conv2D</span>)                │ (<span style=\"color: #00d7ff; text-decoration-color: #00d7ff\">None</span>, <span style=\"color: #00af00; text-decoration-color: #00af00\">14</span>, <span style=\"color: #00af00; text-decoration-color: #00af00\">14</span>, <span style=\"color: #00af00; text-decoration-color: #00af00\">512</span>)         │       <span style=\"color: #00af00; text-decoration-color: #00af00\">2,359,808</span> │\n",
       "├──────────────────────────────────────┼─────────────────────────────┼─────────────────┤\n",
       "│ block5_conv3 (<span style=\"color: #0087ff; text-decoration-color: #0087ff\">Conv2D</span>)                │ (<span style=\"color: #00d7ff; text-decoration-color: #00d7ff\">None</span>, <span style=\"color: #00af00; text-decoration-color: #00af00\">14</span>, <span style=\"color: #00af00; text-decoration-color: #00af00\">14</span>, <span style=\"color: #00af00; text-decoration-color: #00af00\">512</span>)         │       <span style=\"color: #00af00; text-decoration-color: #00af00\">2,359,808</span> │\n",
       "├──────────────────────────────────────┼─────────────────────────────┼─────────────────┤\n",
       "│ block5_pool (<span style=\"color: #0087ff; text-decoration-color: #0087ff\">MaxPooling2D</span>)           │ (<span style=\"color: #00d7ff; text-decoration-color: #00d7ff\">None</span>, <span style=\"color: #00af00; text-decoration-color: #00af00\">7</span>, <span style=\"color: #00af00; text-decoration-color: #00af00\">7</span>, <span style=\"color: #00af00; text-decoration-color: #00af00\">512</span>)           │               <span style=\"color: #00af00; text-decoration-color: #00af00\">0</span> │\n",
       "├──────────────────────────────────────┼─────────────────────────────┼─────────────────┤\n",
       "│ flatten (<span style=\"color: #0087ff; text-decoration-color: #0087ff\">Flatten</span>)                    │ (<span style=\"color: #00d7ff; text-decoration-color: #00d7ff\">None</span>, <span style=\"color: #00af00; text-decoration-color: #00af00\">25088</span>)               │               <span style=\"color: #00af00; text-decoration-color: #00af00\">0</span> │\n",
       "├──────────────────────────────────────┼─────────────────────────────┼─────────────────┤\n",
       "│ dense (<span style=\"color: #0087ff; text-decoration-color: #0087ff\">Dense</span>)                        │ (<span style=\"color: #00d7ff; text-decoration-color: #00d7ff\">None</span>, <span style=\"color: #00af00; text-decoration-color: #00af00\">128</span>)                 │       <span style=\"color: #00af00; text-decoration-color: #00af00\">3,211,392</span> │\n",
       "├──────────────────────────────────────┼─────────────────────────────┼─────────────────┤\n",
       "│ dropout (<span style=\"color: #0087ff; text-decoration-color: #0087ff\">Dropout</span>)                    │ (<span style=\"color: #00d7ff; text-decoration-color: #00d7ff\">None</span>, <span style=\"color: #00af00; text-decoration-color: #00af00\">128</span>)                 │               <span style=\"color: #00af00; text-decoration-color: #00af00\">0</span> │\n",
       "├──────────────────────────────────────┼─────────────────────────────┼─────────────────┤\n",
       "│ dense_1 (<span style=\"color: #0087ff; text-decoration-color: #0087ff\">Dense</span>)                      │ (<span style=\"color: #00d7ff; text-decoration-color: #00d7ff\">None</span>, <span style=\"color: #00af00; text-decoration-color: #00af00\">4</span>)                   │             <span style=\"color: #00af00; text-decoration-color: #00af00\">516</span> │\n",
       "└──────────────────────────────────────┴─────────────────────────────┴─────────────────┘\n",
       "</pre>\n"
      ],
      "text/plain": [
       "┏━━━━━━━━━━━━━━━━━━━━━━━━━━━━━━━━━━━━━━┳━━━━━━━━━━━━━━━━━━━━━━━━━━━━━┳━━━━━━━━━━━━━━━━━┓\n",
       "┃\u001b[1m \u001b[0m\u001b[1mLayer (type)                        \u001b[0m\u001b[1m \u001b[0m┃\u001b[1m \u001b[0m\u001b[1mOutput Shape               \u001b[0m\u001b[1m \u001b[0m┃\u001b[1m \u001b[0m\u001b[1m        Param #\u001b[0m\u001b[1m \u001b[0m┃\n",
       "┡━━━━━━━━━━━━━━━━━━━━━━━━━━━━━━━━━━━━━━╇━━━━━━━━━━━━━━━━━━━━━━━━━━━━━╇━━━━━━━━━━━━━━━━━┩\n",
       "│ input_layer (\u001b[38;5;33mInputLayer\u001b[0m)             │ (\u001b[38;5;45mNone\u001b[0m, \u001b[38;5;34m224\u001b[0m, \u001b[38;5;34m224\u001b[0m, \u001b[38;5;34m3\u001b[0m)         │               \u001b[38;5;34m0\u001b[0m │\n",
       "├──────────────────────────────────────┼─────────────────────────────┼─────────────────┤\n",
       "│ block1_conv1 (\u001b[38;5;33mConv2D\u001b[0m)                │ (\u001b[38;5;45mNone\u001b[0m, \u001b[38;5;34m224\u001b[0m, \u001b[38;5;34m224\u001b[0m, \u001b[38;5;34m64\u001b[0m)        │           \u001b[38;5;34m1,792\u001b[0m │\n",
       "├──────────────────────────────────────┼─────────────────────────────┼─────────────────┤\n",
       "│ block1_conv2 (\u001b[38;5;33mConv2D\u001b[0m)                │ (\u001b[38;5;45mNone\u001b[0m, \u001b[38;5;34m224\u001b[0m, \u001b[38;5;34m224\u001b[0m, \u001b[38;5;34m64\u001b[0m)        │          \u001b[38;5;34m36,928\u001b[0m │\n",
       "├──────────────────────────────────────┼─────────────────────────────┼─────────────────┤\n",
       "│ block1_pool (\u001b[38;5;33mMaxPooling2D\u001b[0m)           │ (\u001b[38;5;45mNone\u001b[0m, \u001b[38;5;34m112\u001b[0m, \u001b[38;5;34m112\u001b[0m, \u001b[38;5;34m64\u001b[0m)        │               \u001b[38;5;34m0\u001b[0m │\n",
       "├──────────────────────────────────────┼─────────────────────────────┼─────────────────┤\n",
       "│ block2_conv1 (\u001b[38;5;33mConv2D\u001b[0m)                │ (\u001b[38;5;45mNone\u001b[0m, \u001b[38;5;34m112\u001b[0m, \u001b[38;5;34m112\u001b[0m, \u001b[38;5;34m128\u001b[0m)       │          \u001b[38;5;34m73,856\u001b[0m │\n",
       "├──────────────────────────────────────┼─────────────────────────────┼─────────────────┤\n",
       "│ block2_conv2 (\u001b[38;5;33mConv2D\u001b[0m)                │ (\u001b[38;5;45mNone\u001b[0m, \u001b[38;5;34m112\u001b[0m, \u001b[38;5;34m112\u001b[0m, \u001b[38;5;34m128\u001b[0m)       │         \u001b[38;5;34m147,584\u001b[0m │\n",
       "├──────────────────────────────────────┼─────────────────────────────┼─────────────────┤\n",
       "│ block2_pool (\u001b[38;5;33mMaxPooling2D\u001b[0m)           │ (\u001b[38;5;45mNone\u001b[0m, \u001b[38;5;34m56\u001b[0m, \u001b[38;5;34m56\u001b[0m, \u001b[38;5;34m128\u001b[0m)         │               \u001b[38;5;34m0\u001b[0m │\n",
       "├──────────────────────────────────────┼─────────────────────────────┼─────────────────┤\n",
       "│ block3_conv1 (\u001b[38;5;33mConv2D\u001b[0m)                │ (\u001b[38;5;45mNone\u001b[0m, \u001b[38;5;34m56\u001b[0m, \u001b[38;5;34m56\u001b[0m, \u001b[38;5;34m256\u001b[0m)         │         \u001b[38;5;34m295,168\u001b[0m │\n",
       "├──────────────────────────────────────┼─────────────────────────────┼─────────────────┤\n",
       "│ block3_conv2 (\u001b[38;5;33mConv2D\u001b[0m)                │ (\u001b[38;5;45mNone\u001b[0m, \u001b[38;5;34m56\u001b[0m, \u001b[38;5;34m56\u001b[0m, \u001b[38;5;34m256\u001b[0m)         │         \u001b[38;5;34m590,080\u001b[0m │\n",
       "├──────────────────────────────────────┼─────────────────────────────┼─────────────────┤\n",
       "│ block3_conv3 (\u001b[38;5;33mConv2D\u001b[0m)                │ (\u001b[38;5;45mNone\u001b[0m, \u001b[38;5;34m56\u001b[0m, \u001b[38;5;34m56\u001b[0m, \u001b[38;5;34m256\u001b[0m)         │         \u001b[38;5;34m590,080\u001b[0m │\n",
       "├──────────────────────────────────────┼─────────────────────────────┼─────────────────┤\n",
       "│ block3_pool (\u001b[38;5;33mMaxPooling2D\u001b[0m)           │ (\u001b[38;5;45mNone\u001b[0m, \u001b[38;5;34m28\u001b[0m, \u001b[38;5;34m28\u001b[0m, \u001b[38;5;34m256\u001b[0m)         │               \u001b[38;5;34m0\u001b[0m │\n",
       "├──────────────────────────────────────┼─────────────────────────────┼─────────────────┤\n",
       "│ block4_conv1 (\u001b[38;5;33mConv2D\u001b[0m)                │ (\u001b[38;5;45mNone\u001b[0m, \u001b[38;5;34m28\u001b[0m, \u001b[38;5;34m28\u001b[0m, \u001b[38;5;34m512\u001b[0m)         │       \u001b[38;5;34m1,180,160\u001b[0m │\n",
       "├──────────────────────────────────────┼─────────────────────────────┼─────────────────┤\n",
       "│ block4_conv2 (\u001b[38;5;33mConv2D\u001b[0m)                │ (\u001b[38;5;45mNone\u001b[0m, \u001b[38;5;34m28\u001b[0m, \u001b[38;5;34m28\u001b[0m, \u001b[38;5;34m512\u001b[0m)         │       \u001b[38;5;34m2,359,808\u001b[0m │\n",
       "├──────────────────────────────────────┼─────────────────────────────┼─────────────────┤\n",
       "│ block4_conv3 (\u001b[38;5;33mConv2D\u001b[0m)                │ (\u001b[38;5;45mNone\u001b[0m, \u001b[38;5;34m28\u001b[0m, \u001b[38;5;34m28\u001b[0m, \u001b[38;5;34m512\u001b[0m)         │       \u001b[38;5;34m2,359,808\u001b[0m │\n",
       "├──────────────────────────────────────┼─────────────────────────────┼─────────────────┤\n",
       "│ block4_pool (\u001b[38;5;33mMaxPooling2D\u001b[0m)           │ (\u001b[38;5;45mNone\u001b[0m, \u001b[38;5;34m14\u001b[0m, \u001b[38;5;34m14\u001b[0m, \u001b[38;5;34m512\u001b[0m)         │               \u001b[38;5;34m0\u001b[0m │\n",
       "├──────────────────────────────────────┼─────────────────────────────┼─────────────────┤\n",
       "│ block5_conv1 (\u001b[38;5;33mConv2D\u001b[0m)                │ (\u001b[38;5;45mNone\u001b[0m, \u001b[38;5;34m14\u001b[0m, \u001b[38;5;34m14\u001b[0m, \u001b[38;5;34m512\u001b[0m)         │       \u001b[38;5;34m2,359,808\u001b[0m │\n",
       "├──────────────────────────────────────┼─────────────────────────────┼─────────────────┤\n",
       "│ block5_conv2 (\u001b[38;5;33mConv2D\u001b[0m)                │ (\u001b[38;5;45mNone\u001b[0m, \u001b[38;5;34m14\u001b[0m, \u001b[38;5;34m14\u001b[0m, \u001b[38;5;34m512\u001b[0m)         │       \u001b[38;5;34m2,359,808\u001b[0m │\n",
       "├──────────────────────────────────────┼─────────────────────────────┼─────────────────┤\n",
       "│ block5_conv3 (\u001b[38;5;33mConv2D\u001b[0m)                │ (\u001b[38;5;45mNone\u001b[0m, \u001b[38;5;34m14\u001b[0m, \u001b[38;5;34m14\u001b[0m, \u001b[38;5;34m512\u001b[0m)         │       \u001b[38;5;34m2,359,808\u001b[0m │\n",
       "├──────────────────────────────────────┼─────────────────────────────┼─────────────────┤\n",
       "│ block5_pool (\u001b[38;5;33mMaxPooling2D\u001b[0m)           │ (\u001b[38;5;45mNone\u001b[0m, \u001b[38;5;34m7\u001b[0m, \u001b[38;5;34m7\u001b[0m, \u001b[38;5;34m512\u001b[0m)           │               \u001b[38;5;34m0\u001b[0m │\n",
       "├──────────────────────────────────────┼─────────────────────────────┼─────────────────┤\n",
       "│ flatten (\u001b[38;5;33mFlatten\u001b[0m)                    │ (\u001b[38;5;45mNone\u001b[0m, \u001b[38;5;34m25088\u001b[0m)               │               \u001b[38;5;34m0\u001b[0m │\n",
       "├──────────────────────────────────────┼─────────────────────────────┼─────────────────┤\n",
       "│ dense (\u001b[38;5;33mDense\u001b[0m)                        │ (\u001b[38;5;45mNone\u001b[0m, \u001b[38;5;34m128\u001b[0m)                 │       \u001b[38;5;34m3,211,392\u001b[0m │\n",
       "├──────────────────────────────────────┼─────────────────────────────┼─────────────────┤\n",
       "│ dropout (\u001b[38;5;33mDropout\u001b[0m)                    │ (\u001b[38;5;45mNone\u001b[0m, \u001b[38;5;34m128\u001b[0m)                 │               \u001b[38;5;34m0\u001b[0m │\n",
       "├──────────────────────────────────────┼─────────────────────────────┼─────────────────┤\n",
       "│ dense_1 (\u001b[38;5;33mDense\u001b[0m)                      │ (\u001b[38;5;45mNone\u001b[0m, \u001b[38;5;34m4\u001b[0m)                   │             \u001b[38;5;34m516\u001b[0m │\n",
       "└──────────────────────────────────────┴─────────────────────────────┴─────────────────┘\n"
      ]
     },
     "metadata": {},
     "output_type": "display_data"
    },
    {
     "data": {
      "text/html": [
       "<pre style=\"white-space:pre;overflow-x:auto;line-height:normal;font-family:Menlo,'DejaVu Sans Mono',consolas,'Courier New',monospace\"><span style=\"font-weight: bold\"> Total params: </span><span style=\"color: #00af00; text-decoration-color: #00af00\">17,926,596</span> (68.38 MB)\n",
       "</pre>\n"
      ],
      "text/plain": [
       "\u001b[1m Total params: \u001b[0m\u001b[38;5;34m17,926,596\u001b[0m (68.38 MB)\n"
      ]
     },
     "metadata": {},
     "output_type": "display_data"
    },
    {
     "data": {
      "text/html": [
       "<pre style=\"white-space:pre;overflow-x:auto;line-height:normal;font-family:Menlo,'DejaVu Sans Mono',consolas,'Courier New',monospace\"><span style=\"font-weight: bold\"> Trainable params: </span><span style=\"color: #00af00; text-decoration-color: #00af00\">3,211,908</span> (12.25 MB)\n",
       "</pre>\n"
      ],
      "text/plain": [
       "\u001b[1m Trainable params: \u001b[0m\u001b[38;5;34m3,211,908\u001b[0m (12.25 MB)\n"
      ]
     },
     "metadata": {},
     "output_type": "display_data"
    },
    {
     "data": {
      "text/html": [
       "<pre style=\"white-space:pre;overflow-x:auto;line-height:normal;font-family:Menlo,'DejaVu Sans Mono',consolas,'Courier New',monospace\"><span style=\"font-weight: bold\"> Non-trainable params: </span><span style=\"color: #00af00; text-decoration-color: #00af00\">14,714,688</span> (56.13 MB)\n",
       "</pre>\n"
      ],
      "text/plain": [
       "\u001b[1m Non-trainable params: \u001b[0m\u001b[38;5;34m14,714,688\u001b[0m (56.13 MB)\n"
      ]
     },
     "metadata": {},
     "output_type": "display_data"
    }
   ],
   "source": [
    "base_model = VGG16(weights='imagenet', include_top=False, input_shape=(224, 224, 3))  \n",
    "# We use this to load the pre-trained VGG16 model without the top layer (for feature extraction)\n",
    "\n",
    "for layer in base_model.layers:\n",
    "    layer.trainable = False  \n",
    "# We freeze these layers because they already learned good features from ImageNet\n",
    "\n",
    "x = Flatten()(base_model.output)  \n",
    "# We flatten the output so we can connect it to dense layers\n",
    "\n",
    "x = Dense(128, activation='relu')(x)  \n",
    "# We add a dense layer to learn more from the features\n",
    "\n",
    "x = Dropout(0.3)(x)  \n",
    "# We use dropout to prevent overfitting (helps model generalize better)\n",
    "\n",
    "output = Dense(4, activation='softmax')(x)  \n",
    "# We add the final layer to classify into 4 rice types (softmax gives probabilities)\n",
    "\n",
    "model = Model(inputs=base_model.input, outputs=output)  \n",
    "# We combine the VGG16 base and our custom layers into one model\n",
    "\n",
    "model.compile(optimizer=Adam(learning_rate=0.0001),\n",
    "              loss='categorical_crossentropy',\n",
    "              metrics=['accuracy'])  \n",
    "# We compile the model so it's ready for training (using Adam optimizer and accuracy metric)\n",
    "\n",
    "model.summary()  \n",
    "# We show the full model structure to understand the layers\n"
   ]
  },
  {
   "cell_type": "markdown",
   "id": "792caca0-9bc7-4fd4-9ff7-b2fcb6095a97",
   "metadata": {},
   "source": [
    "### Step 4: Train the Model"
   ]
  },
  {
   "cell_type": "markdown",
   "id": "287fe23c-18eb-4570-9b39-34ce0cd9e3d4",
   "metadata": {},
   "source": [
    "#### Used to train the model using training data and check its performance on validation data for 5 rounds (epochs)."
   ]
  },
  {
   "cell_type": "code",
   "execution_count": 34,
   "id": "aeed5048-c3a0-4fd8-90f1-8ab2e0222ae4",
   "metadata": {},
   "outputs": [
    {
     "name": "stderr",
     "output_type": "stream",
     "text": [
      "C:\\Users\\LENOVO\\anaconda3\\Lib\\site-packages\\keras\\src\\trainers\\data_adapters\\py_dataset_adapter.py:121: UserWarning: Your `PyDataset` class should call `super().__init__(**kwargs)` in its constructor. `**kwargs` can include `workers`, `use_multiprocessing`, `max_queue_size`. Do not pass these arguments to `fit()`, as they will be ignored.\n",
      "  self._warn_if_super_not_called()\n"
     ]
    },
    {
     "name": "stdout",
     "output_type": "stream",
     "text": [
      "Epoch 1/5\n",
      "\u001b[1m3/3\u001b[0m \u001b[32m━━━━━━━━━━━━━━━━━━━━\u001b[0m\u001b[37m\u001b[0m \u001b[1m70s\u001b[0m 21s/step - accuracy: 0.2867 - loss: 6.7925 - val_accuracy: 0.5000 - val_loss: 2.5192\n",
      "Epoch 2/5\n",
      "\u001b[1m3/3\u001b[0m \u001b[32m━━━━━━━━━━━━━━━━━━━━\u001b[0m\u001b[37m\u001b[0m \u001b[1m35s\u001b[0m 14s/step - accuracy: 0.6021 - loss: 1.9767 - val_accuracy: 0.7500 - val_loss: 1.8893\n",
      "Epoch 3/5\n",
      "\u001b[1m3/3\u001b[0m \u001b[32m━━━━━━━━━━━━━━━━━━━━\u001b[0m\u001b[37m\u001b[0m \u001b[1m43s\u001b[0m 13s/step - accuracy: 0.8289 - loss: 0.6081 - val_accuracy: 0.8500 - val_loss: 1.0607\n",
      "Epoch 4/5\n",
      "\u001b[1m3/3\u001b[0m \u001b[32m━━━━━━━━━━━━━━━━━━━━\u001b[0m\u001b[37m\u001b[0m \u001b[1m35s\u001b[0m 15s/step - accuracy: 0.9146 - loss: 0.4456 - val_accuracy: 0.9000 - val_loss: 0.7362\n",
      "Epoch 5/5\n",
      "\u001b[1m3/3\u001b[0m \u001b[32m━━━━━━━━━━━━━━━━━━━━\u001b[0m\u001b[37m\u001b[0m \u001b[1m35s\u001b[0m 12s/step - accuracy: 0.9109 - loss: 0.2674 - val_accuracy: 0.9000 - val_loss: 0.6446\n"
     ]
    }
   ],
   "source": [
    "history = model.fit(train_gen, validation_data=val_gen, epochs=5)\n",
    "#One epoch means the model has seen all the training images one time."
   ]
  },
  {
   "cell_type": "markdown",
   "id": "9e63f4de-5ade-4707-9080-9cf8ff4f76a5",
   "metadata": {},
   "source": [
    "### Step 5: Evaluate the Model"
   ]
  },
  {
   "cell_type": "markdown",
   "id": "41fba1cc-2d19-4add-8dc1-b32d388a20a5",
   "metadata": {},
   "source": [
    "#### This step checks how well the model performs on the validation data.It shows the final accuracy after training, which helps us know if the model is working correctly."
   ]
  },
  {
   "cell_type": "code",
   "execution_count": 41,
   "id": "2c2fcf47-d550-46ff-8563-362a7a581f5c",
   "metadata": {},
   "outputs": [
    {
     "name": "stdout",
     "output_type": "stream",
     "text": [
      "\u001b[1m1/1\u001b[0m \u001b[32m━━━━━━━━━━━━━━━━━━━━\u001b[0m\u001b[37m\u001b[0m \u001b[1m10s\u001b[0m 10s/step - accuracy: 0.9000 - loss: 0.6446\n",
      "✅ Final Validation Accuracy: 90.00%\n"
     ]
    }
   ],
   "source": [
    "val_loss, val_acc = model.evaluate(val_gen)\n",
    "print(f\"✅ Final Validation Accuracy: {val_acc * 100:.2f}%\")\n",
    "plt.show()"
   ]
  },
  {
   "cell_type": "markdown",
   "id": "31fb173e-0aed-493b-9ee7-4851685798b1",
   "metadata": {},
   "source": [
    "### Step 6: Dataset Stats (Image Count & Class Distribution)"
   ]
  },
  {
   "cell_type": "markdown",
   "id": "6c591abc-0ce9-4dbc-bf09-5efab7962968",
   "metadata": {},
   "source": [
    "#### This step counts how many images are there in each rice class folder and prints the result."
   ]
  },
  {
   "cell_type": "code",
   "execution_count": 45,
   "id": "c4127223-940b-4f4c-9bce-f440d340cd42",
   "metadata": {},
   "outputs": [
    {
     "name": "stdout",
     "output_type": "stream",
     "text": [
      "Arborio: 25 images\n",
      "Basmati: 25 images\n",
      "Jasmine: 25 images\n",
      "ipsala: 25 images\n"
     ]
    }
   ],
   "source": [
    "for class_name in class_names:  # loop\n",
    "    class_path = os.path.join(data_dir, class_name)  # path\n",
    "    count = len(os.listdir(class_path))  # count\n",
    "    print(f\"{class_name}: {count} images\")  # output\n"
   ]
  },
  {
   "cell_type": "markdown",
   "id": "f72ddca3-5e91-4082-93ed-979f76311b0d",
   "metadata": {},
   "source": [
    "### Step 7: Predict and Show a Random Rice Image"
   ]
  },
  {
   "cell_type": "markdown",
   "id": "f7707b3c-078f-437d-a38d-54e0a782bc5f",
   "metadata": {},
   "source": [
    "#### Randomly selects a rice image, preprocesses it, predicts its type using the model, and displays the image with predicted and actual labels."
   ]
  },
  {
   "cell_type": "code",
   "execution_count": 59,
   "id": "18e92664-c129-4b49-a907-944bdc02e39c",
   "metadata": {},
   "outputs": [
    {
     "name": "stdout",
     "output_type": "stream",
     "text": [
      "\u001b[1m1/1\u001b[0m \u001b[32m━━━━━━━━━━━━━━━━━━━━\u001b[0m\u001b[37m\u001b[0m \u001b[1m1s\u001b[0m 1s/step\n"
     ]
    },
    {
     "data": {
      "image/png": "[encoded data removed]",
      "text/plain": [
       "<Figure size 640x480 with 1 Axes>"
      ]
     },
     "metadata": {},
     "output_type": "display_data"
    }
   ],
   "source": [
    "# Choose a random rice image from a random class\n",
    "random_class = random.choice(class_names)\n",
    "img_path = os.path.join(data_dir, random_class, random.choice(os.listdir(os.path.join(data_dir, random_class))))\n",
    "\n",
    "# Load and prepare image\n",
    "img = load_img(img_path, target_size=(224, 224))\n",
    "img_preprocessed = preprocess_input(np.expand_dims(img_to_array(img), axis=0))\n",
    "\n",
    "# Predict rice type\n",
    "prediction = model.predict(img_preprocessed)\n",
    "predicted_class = class_names[np.argmax(prediction)]\n",
    "\n",
    "# Display image with prediction\n",
    "plt.imshow(img)\n",
    "plt.title(f\"Predicted: {predicted_class} | Actual: {random_class}\")\n",
    "plt.axis(\"off\")\n",
    "plt.show()"
   ]
  },
  {
   "cell_type": "markdown",
   "id": "72c74c32-a558-40b5-af0a-78d05f1444dc",
   "metadata": {},
   "source": [
    "### Step 8:  Predict and Display Class Probabilities (Top-2 Results)"
   ]
  },
  {
   "cell_type": "markdown",
   "id": "47d2ecea-04ee-44da-93ad-9d765567d533",
   "metadata": {},
   "source": [
    "#### It shows the rice name and how sure the model is, as a percentage with two digits after the decimal."
   ]
  },
  {
   "cell_type": "code",
   "execution_count": 67,
   "id": "970e9a20-45cf-42bc-8227-b1fbe22dd930",
   "metadata": {},
   "outputs": [
    {
     "name": "stdout",
     "output_type": "stream",
     "text": [
      "\u001b[1m1/1\u001b[0m \u001b[32m━━━━━━━━━━━━━━━━━━━━\u001b[0m\u001b[37m\u001b[0m \u001b[1m1s\u001b[0m 1s/step\n",
      "Top 2 Predictions:\n",
      "Arborio: 99.99%\n",
      "Jasmine: 0.01%\n"
     ]
    }
   ],
   "source": [
    "# Get prediction probabilities for the input image\n",
    "probabilities = model.predict(img_preprocessed)[0]\n",
    "\n",
    "# Find indices of top 2 highest probabilities\n",
    "top_2_indices = probabilities.argsort()[-2:][::-1]\n",
    "\n",
    "# Print the top 2 predicted rice classes with confidence scores\n",
    "print(\"Top 2 Predictions:\")\n",
    "for i in top_2_indices:\n",
    "    print(f\"{class_names[i]}: {probabilities[i]*100:.2f}%\")\n",
    "#2f means floating-point number with 2 digits after the decimal point (e.g., 95.23%)"
   ]
  },
  {
   "cell_type": "markdown",
   "id": "58213d35-3b96-49e0-bb3c-1c97c85f9191",
   "metadata": {},
   "source": [
    "### Step 9:  Using Binary Label Classifier (Premium vs Regular Rice)"
   ]
  },
  {
   "cell_type": "markdown",
   "id": "9dce641f-eb0f-4239-a451-bd40203c407e",
   "metadata": {},
   "source": [
    "#### It checks if the predicted rice is premium or regular based on a predefined list and prints the result."
   ]
  },
  {
   "cell_type": "code",
   "execution_count": 73,
   "id": "0792faf8-ed36-430d-b8f6-4ddc7e7eb013",
   "metadata": {},
   "outputs": [
    {
     "name": "stdout",
     "output_type": "stream",
     "text": [
      "Predicted Rice Type: Arborio\n",
      "Category: Premium\n"
     ]
    }
   ],
   "source": [
    "premium_rice = ['Arborio', 'Basmati']  # List of premium rice types\n",
    "\n",
    "def classify_premium(class_name):\n",
    "    return \"Premium\" if class_name in premium_rice else \"Regular\"  # Classify rice as Premium or Regular\n",
    "\n",
    "# Example usage\n",
    "predicted_class = class_names[np.argmax(prediction)]  # Get predicted rice type from model output\n",
    "rice_grade = classify_premium(predicted_class)  # Determine if predicted rice is Premium or Regular\n",
    "\n",
    "print(f\"Predicted Rice Type: {predicted_class}\")  # Show predicted rice type\n",
    "print(f\"Category: {rice_grade}\")  # Show rice category (Premium/Regular)"
   ]
  },
  {
   "cell_type": "markdown",
   "id": "093b925a-e707-4866-947e-8923aae025c4",
   "metadata": {},
   "source": [
    "### Step 10: Check Consistency of Model (Repeated Prediction Check)"
   ]
  },
  {
   "cell_type": "markdown",
   "id": "b5d0a1ee-3196-450c-9699-27d97507cf81",
   "metadata": {},
   "source": [
    "#### It checks if the model gives the same prediction every time for the same image to ensure consistency."
   ]
  },
  {
   "cell_type": "code",
   "execution_count": 80,
   "id": "446056e1-4b2d-4771-b177-fc0a5b879100",
   "metadata": {},
   "outputs": [
    {
     "name": "stdout",
     "output_type": "stream",
     "text": [
      "\u001b[1m1/1\u001b[0m \u001b[32m━━━━━━━━━━━━━━━━━━━━\u001b[0m\u001b[37m\u001b[0m \u001b[1m3s\u001b[0m 3s/step\n",
      "\u001b[1m1/1\u001b[0m \u001b[32m━━━━━━━━━━━━━━━━━━━━\u001b[0m\u001b[37m\u001b[0m \u001b[1m1s\u001b[0m 1s/step\n",
      "\u001b[1m1/1\u001b[0m \u001b[32m━━━━━━━━━━━━━━━━━━━━\u001b[0m\u001b[37m\u001b[0m \u001b[1m1s\u001b[0m 1s/step\n",
      "\u001b[1m1/1\u001b[0m \u001b[32m━━━━━━━━━━━━━━━━━━━━\u001b[0m\u001b[37m\u001b[0m \u001b[1m1s\u001b[0m 1s/step   \n",
      "\u001b[1m1/1\u001b[0m \u001b[32m━━━━━━━━━━━━━━━━━━━━\u001b[0m\u001b[37m\u001b[0m \u001b[1m1s\u001b[0m 1s/step   \n",
      "Predictions: ['Arborio', 'Arborio', 'Arborio', 'Arborio', 'Arborio']\n",
      "Consistent Prediction: Yes\n"
     ]
    }
   ],
   "source": [
    "repeats = 5  # Number of times to predict the same image\n",
    "predictions = []  # Store predictions\n",
    "\n",
    "for _ in range(repeats):\n",
    "    pred = model.predict(img_preprocessed)  # Predict rice type\n",
    "    predictions.append(np.argmax(pred))  # Save predicted class index\n",
    "\n",
    "# Check if all predictions are the same\n",
    "consistent = all(p == predictions[0] for p in predictions)\n",
    "print(f\"Predictions: {[class_names[p] for p in predictions]}\")  # Print all predictions\n",
    "print(f\"Consistent Prediction: {'Yes' if consistent else 'No'}\")  # Show if predictions match\n"
   ]
  },
  {
   "cell_type": "code",
   "execution_count": 86,
   "id": "565d6ef4-075e-418b-acf0-01f9ef36952b",
   "metadata": {},
   "outputs": [
    {
     "name": "stdout",
     "output_type": "stream",
     "text": [
      "Arborio: 25 images\n",
      "Basmati: 25 images\n",
      "Jasmine: 25 images\n",
      "ipsala: 25 images\n"
     ]
    }
   ],
   "source": [
    "for class_name in class_names:\n",
    "    class_path = os.path.join(data_dir, class_name)\n",
    "    count = len(os.listdir(class_path))\n",
    "    print(f\"{class_name}: {count} images\")"
   ]
  },
  {
   "cell_type": "markdown",
   "id": "cf0ef6d7-d6a5-487b-b8c4-a33273d0a569",
   "metadata": {},
   "source": [
    "### Step 11: Find Misclassified Images"
   ]
  },
  {
   "cell_type": "markdown",
   "id": "56285268-3d2f-44c7-9342-73a12fe05001",
   "metadata": {},
   "source": [
    "#### This step checks which images the model predicted incorrectly by comparing actual and predicted labels."
   ]
  },
  {
   "cell_type": "code",
   "execution_count": 96,
   "id": "5a730913-f9ad-419b-ac53-2dc6c50513f4",
   "metadata": {},
   "outputs": [
    {
     "name": "stdout",
     "output_type": "stream",
     "text": [
      "\u001b[1m1/1\u001b[0m \u001b[32m━━━━━━━━━━━━━━━━━━━━\u001b[0m\u001b[37m\u001b[0m \u001b[1m17s\u001b[0m 17s/step\n",
      "Total Misclassified: 15\n",
      "Examples:\n",
      "Arborio\\Arborio (1).jpg | True: Arborio | Predicted: Jasmine\n",
      "Arborio\\Arborio (10).jpg | True: Arborio | Predicted: Basmati\n",
      "Arborio\\Arborio (11).jpg | True: Arborio | Predicted: ipsala\n",
      "Arborio\\Arborio (12).jpg | True: Arborio | Predicted: Jasmine\n",
      "Arborio\\Arborio (13).jpg | True: Arborio | Predicted: Basmati\n"
     ]
    }
   ],
   "source": [
    "# First, make predictions on validation data\n",
    "y_pred_probs = model.predict(val_gen)  # Get probabilities\n",
    "y_pred = np.argmax(y_pred_probs, axis=1)  # Get predicted class indices\n",
    "#argmax is used to find the class with the highest prediction score from the model's output.\n",
    "# Then use them to find misclassified samples\n",
    "filenames = val_gen.filenames\n",
    "true_classes = val_gen.classes\n",
    "predicted_classes = y_pred\n",
    "\n",
    "misclassified = []\n",
    "for i in range(len(true_classes)):\n",
    "    if true_classes[i] != predicted_classes[i]:\n",
    "        misclassified.append((filenames[i], class_names[true_classes[i]], class_names[predicted_classes[i]]))\n",
    "\n",
    "print(f\"Total Misclassified: {len(misclassified)}\")\n",
    "print(\"Examples:\")\n",
    "for file, true_label, pred_label in misclassified[:5]:\n",
    "    print(f\"{file} | True: {true_label} | Predicted: {pred_label}\")\n"
   ]
  },
  {
   "cell_type": "markdown",
   "id": "46c2c3ca-f9dc-479f-ab43-109eff686f8d",
   "metadata": {},
   "source": [
    "### Step 12: Evaluate Accuracy Per Class"
   ]
  },
  {
   "cell_type": "markdown",
   "id": "e2ecdc6c-bf48-4575-9137-9a563fa17b19",
   "metadata": {},
   "source": [
    "#### This step compares the actual and predicted labels to generate a detailed performance report for each rice class."
   ]
  },
  {
   "cell_type": "code",
   "execution_count": 105,
   "id": "280cc83f-bd2a-4945-a9dc-1029d93e7157",
   "metadata": {},
   "outputs": [
    {
     "name": "stdout",
     "output_type": "stream",
     "text": [
      "\u001b[1m1/1\u001b[0m \u001b[32m━━━━━━━━━━━━━━━━━━━━\u001b[0m\u001b[37m\u001b[0m \u001b[1m14s\u001b[0m 14s/step\n",
      "              precision    recall  f1-score   support\n",
      "\n",
      "     Arborio       0.43      0.60      0.50         5\n",
      "     Basmati       0.20      0.20      0.20         5\n",
      "     Jasmine       0.75      0.60      0.67         5\n",
      "      ipsala       0.25      0.20      0.22         5\n",
      "\n",
      "    accuracy                           0.40        20\n",
      "   macro avg       0.41      0.40      0.40        20\n",
      "weighted avg       0.41      0.40      0.40        20\n",
      "\n"
     ]
    }
   ],
   "source": [
    "from sklearn.metrics import classification_report\n",
    "\n",
    "y_true = val_gen.classes  # Actual labels\n",
    "y_pred_probs = model.predict(val_gen)  # Predicted probabilities\n",
    "y_pred = np.argmax(y_pred_probs, axis=1)  # Get predicted class indices\n",
    "\n",
    "report = classification_report(y_true, y_pred, target_names=class_names, digits=2)  # Generate report\n",
    "print(report)  # Show results\n"
   ]
  },
  {
   "cell_type": "markdown",
   "id": "c7263f73-fee6-4583-8b99-1881d15e3cde",
   "metadata": {},
   "source": [
    "### Step 13: Check Prediction Time (Speed Test)"
   ]
  },
  {
   "cell_type": "markdown",
   "id": "e02b7395-8ce8-4589-9a52-5064328b8c6a",
   "metadata": {},
   "source": [
    "#### This step measures how fast the model predicts the result for one image."
   ]
  },
  {
   "cell_type": "code",
   "execution_count": 110,
   "id": "f8e75b8b-b12e-42d8-b133-1d7fa4e339e9",
   "metadata": {},
   "outputs": [
    {
     "name": "stdout",
     "output_type": "stream",
     "text": [
      "\u001b[1m1/1\u001b[0m \u001b[32m━━━━━━━━━━━━━━━━━━━━\u001b[0m\u001b[37m\u001b[0m \u001b[1m3s\u001b[0m 3s/step\n",
      "Prediction Time: 3963.49 ms\n"
     ]
    }
   ],
   "source": [
    "import time  # For measuring time\n",
    "\n",
    "start_time = time.time()  # Record start time\n",
    "_ = model.predict(img_preprocessed)  # Run prediction (result not stored)\n",
    "end_time = time.time()  # Record end time\n",
    "\n",
    "print(f\"Prediction Time: {(end_time - start_time)*1000:.2f} ms\")  # Show how long the prediction took in milliseconds\n"
   ]
  },
  {
   "cell_type": "markdown",
   "id": "42f95498-ffa1-4149-9b25-f50a611e7090",
   "metadata": {},
   "source": [
    "### Step 14: Image Size-based Categorization"
   ]
  },
  {
   "cell_type": "markdown",
   "id": "051b1dbc-86bb-49d7-9bb3-34bb4f38dbc0",
   "metadata": {},
   "source": [
    "#### This function checks the image size and classifies it as Small, Medium, or Large based on its area."
   ]
  },
  {
   "cell_type": "code",
   "execution_count": 113,
   "id": "2e6bd74a-e97a-48d4-96ac-b5e162b2011e",
   "metadata": {},
   "outputs": [
    {
     "name": "stdout",
     "output_type": "stream",
     "text": [
      "Ipsala (24).jpg -> Small\n"
     ]
    }
   ],
   "source": [
    "def get_image_category(img_path):\n",
    "    img = load_img(img_path)  # Load the image\n",
    "    w, h = img.size  # Get width and height\n",
    "    area = w * h  # Calculate image area\n",
    "    if area < 100000:\n",
    "        return \"Small\"  # Category based on area\n",
    "    elif area < 300000:\n",
    "        return \"Medium\"\n",
    "    else:\n",
    "        return \"Large\"\n",
    "\n",
    "print(f\"{random_img_file} -> {get_image_category(img_path)}\")  # Show image size category\n"
   ]
  },
  {
   "cell_type": "markdown",
   "id": "3313f4d6-bedd-4ec5-8b98-9c162323a9cd",
   "metadata": {},
   "source": [
    "### Step 15: Class-wise Confidence Range"
   ]
  },
  {
   "cell_type": "markdown",
   "id": "a00c0eaf-693a-4b25-846c-bccf9ac6e243",
   "metadata": {},
   "source": [
    "#### This code checks how confident the model was for each correctly predicted rice type, showing the highest and lowest confidence values."
   ]
  },
  {
   "cell_type": "code",
   "execution_count": 117,
   "id": "496581c8-d3bf-49bb-b638-b607855054a4",
   "metadata": {},
   "outputs": [
    {
     "name": "stdout",
     "output_type": "stream",
     "text": [
      "Arborio: Min = 0.00%, Max = 99.99%\n",
      "Basmati: Min = 0.00%, Max = 100.00%\n",
      "Jasmine: Min = 0.00%, Max = 100.00%\n",
      "ipsala: Min = 0.00%, Max = 88.41%\n"
     ]
    }
   ],
   "source": [
    "# Create a dictionary to store confidence scores for each rice class\n",
    "confidence_per_class = {name: [] for name in class_names}\n",
    "\n",
    "# Loop through each prediction and store the model's confidence for the correct class\n",
    "for i, prob in enumerate(y_pred_probs):\n",
    "    true_class = y_true[i]  # Actual class index\n",
    "    confidence = prob[true_class]  # Confidence for the correct class\n",
    "    confidence_per_class[class_names[true_class]].append(confidence)\n",
    "\n",
    "# Print the minimum and maximum confidence for each rice type\n",
    "for rice_type, scores in confidence_per_class.items():\n",
    "    print(f\"{rice_type}: Min = {min(scores)*100:.2f}%, Max = {max(scores)*100:.2f}%\")\n"
   ]
  },
  {
   "cell_type": "markdown",
   "id": "59d8f9f9-64f3-46a3-8877-1eba308bbe8b",
   "metadata": {},
   "source": [
    "### Step 16: Confidence Thresholding"
   ]
  },
  {
   "cell_type": "markdown",
   "id": "01052e6f-869d-4d07-bf49-09d8a3fce6ac",
   "metadata": {},
   "source": [
    "#### This step checks if the model's prediction is confident enough, and warns if it's below a certain confidence level."
   ]
  },
  {
   "cell_type": "code",
   "execution_count": 122,
   "id": "a5174775-0ef2-476e-8208-1d9694f60c8f",
   "metadata": {},
   "outputs": [
    {
     "name": "stdout",
     "output_type": "stream",
     "text": [
      "Confident Prediction: Arborio (99.99%)\n"
     ]
    }
   ],
   "source": [
    "threshold = 0.7  # Set minimum confidence level\n",
    "conf_score = np.max(prediction)  # Get highest confidence score from prediction\n",
    "\n",
    "# Check if the prediction confidence is below the threshold\n",
    "if conf_score < threshold:\n",
    "    print(\" Low Confidence: Prediction not reliable.\") \n",
    "else:\n",
    "    print(f\"Confident Prediction: {predicted_class} ({conf_score*100:.2f}%)\")  # Print confident result"
   ]
  },
  {
   "cell_type": "markdown",
   "id": "a888c58e-b0aa-4ce0-ac0c-98a610c32e90",
   "metadata": {},
   "source": [
    "### Step 17: Predict Multiple Random Images and Average"
   ]
  },
  {
   "cell_type": "markdown",
   "id": "0cd3eca6-8dc8-49e4-bff2-f3710fa9428c",
   "metadata": {},
   "source": [
    "#### This code tests the model on 5 random images and calculates the average prediction confidence for each rice type."
   ]
  },
  {
   "cell_type": "code",
   "execution_count": 126,
   "id": "628bd08f-daf1-4c8f-baf9-cc03b4aba6b0",
   "metadata": {},
   "outputs": [
    {
     "name": "stdout",
     "output_type": "stream",
     "text": [
      "\u001b[1m1/1\u001b[0m \u001b[32m━━━━━━━━━━━━━━━━━━━━\u001b[0m\u001b[37m\u001b[0m \u001b[1m3s\u001b[0m 3s/step\n",
      "\u001b[1m1/1\u001b[0m \u001b[32m━━━━━━━━━━━━━━━━━━━━\u001b[0m\u001b[37m\u001b[0m \u001b[1m1s\u001b[0m 1s/step\n",
      "\u001b[1m1/1\u001b[0m \u001b[32m━━━━━━━━━━━━━━━━━━━━\u001b[0m\u001b[37m\u001b[0m \u001b[1m1s\u001b[0m 1s/step\n",
      "\u001b[1m1/1\u001b[0m \u001b[32m━━━━━━━━━━━━━━━━━━━━\u001b[0m\u001b[37m\u001b[0m \u001b[1m1s\u001b[0m 1s/step\n",
      "\u001b[1m1/1\u001b[0m \u001b[32m━━━━━━━━━━━━━━━━━━━━\u001b[0m\u001b[37m\u001b[0m \u001b[1m1s\u001b[0m 1s/step   \n",
      "Average Prediction Scores from 5 Random Images:\n",
      "Arborio: 20.00%\n",
      "Basmati: 20.00%\n",
      "Jasmine: 40.00%\n",
      "ipsala: 20.00%\n"
     ]
    }
   ],
   "source": [
    "scores = np.zeros(len(class_names))  # Initialize scores for each class\n",
    "\n",
    "# Repeat 5 times to test with random images\n",
    "for _ in range(5):\n",
    "    cls = random.choice(class_names)  # Pick a random rice type\n",
    "    path = os.path.join(data_dir, cls)  # Get folder path\n",
    "    file = random.choice(os.listdir(path))  # Pick a random image\n",
    "    img_path = os.path.join(path, file)  # Full path of image\n",
    "\n",
    "    img = load_img(img_path, target_size=(224, 224))  # Load and resize image\n",
    "    arr = img_to_array(img)  # Convert image to array\n",
    "    arr = np.expand_dims(arr, axis=0)  # Expand dimensions for prediction\n",
    "    arr = preprocess_input(arr)  # Preprocess for VGG16\n",
    "\n",
    "    pred = model.predict(arr)[0]  # Get prediction scores\n",
    "    scores += pred  # Add to total scores\n",
    "\n",
    "# Calculate average scores across 5 predictions\n",
    "avg_scores = scores / 5\n",
    "\n",
    "# Print the average confidence for each rice type\n",
    "print(\"Average Prediction Scores from 5 Random Images:\")\n",
    "for i, score in enumerate(avg_scores):\n",
    "    print(f\"{class_names[i]}: {score*100:.2f}%\")\n"
   ]
  },
  {
   "cell_type": "markdown",
   "id": "937cff95-e34b-4204-8076-54531901f880",
   "metadata": {},
   "source": [
    "### Step 18: Get Misclassification Rate (Error Rate)"
   ]
  },
  {
   "cell_type": "markdown",
   "id": "150a6e56-c05e-4ec3-a19b-ef7d197911c0",
   "metadata": {},
   "source": [
    "#### This code calculates how many predictions were wrong and shows the model's error rate and accuracy in percentage."
   ]
  },
  {
   "cell_type": "code",
   "execution_count": 129,
   "id": "f4b8c3b1-d2b2-4502-85ef-986fd339f939",
   "metadata": {},
   "outputs": [
    {
     "name": "stdout",
     "output_type": "stream",
     "text": [
      " Misclassification Rate: 60.00%\n",
      " Accuracy: 40.00%\n"
     ]
    }
   ],
   "source": [
    "incorrect = sum(y_true[i] != y_pred[i] for i in range(len(y_true)))  # Count how many predictions were wrong\n",
    "total = len(y_true)  # Total number of predictions\n",
    "error_rate = (incorrect / total) * 100  # Calculate percentage of incorrect predictions\n",
    "\n",
    "print(f\" Misclassification Rate: {error_rate:.2f}%\")  # Show error rate\n",
    "print(f\" Accuracy: {100 - error_rate:.2f}%\")  # Show accuracy"
   ]
  },
  {
   "cell_type": "markdown",
   "id": "d068d623-7815-48ca-8340-5d0032df24fa",
   "metadata": {},
   "source": [
    "### Step 19: Find Most Confident and Least Confident Predictions"
   ]
  },
  {
   "cell_type": "markdown",
   "id": "dd72d120-5bef-44b3-aa53-62615cca197b",
   "metadata": {},
   "source": [
    "#### This code finds and displays the most and least confident predictions made by the model, including filenames and confidence percentages."
   ]
  },
  {
   "cell_type": "code",
   "execution_count": 134,
   "id": "ac61786f-9cc9-4b55-b517-9b1148f6fde5",
   "metadata": {},
   "outputs": [
    {
     "name": "stdout",
     "output_type": "stream",
     "text": [
      " Most Confident Prediction:\n",
      "Arborio\\Arborio (10).jpg  Basmati (100.00%)\n",
      " Least Confident Prediction:\n",
      "Arborio\\Arborio (12).jpg  Arborio (66.57%)\n"
     ]
    }
   ],
   "source": [
    "confidences = np.max(y_pred_probs, axis=1)  # Get the highest confidence score for each prediction\n",
    "most_confident_idx = np.argmax(confidences)  # Find index of the most confident prediction\n",
    "least_confident_idx = np.argmin(confidences)  # Find index of the least confident prediction\n",
    "\n",
    "print(\" Most Confident Prediction:\")\n",
    "print(f\"{filenames[most_confident_idx]}  {class_names[y_pred[most_confident_idx]]} ({confidences[most_confident_idx]*100:.2f}%)\")  # Show file and confidence\n",
    "\n",
    "print(\" Least Confident Prediction:\")\n",
    "print(f\"{filenames[least_confident_idx]}  {class_names[y_pred[least_confident_idx]]} ({confidences[least_confident_idx]*100:.2f}%)\")  # Show file and confidence\n"
   ]
  },
  {
   "cell_type": "markdown",
   "id": "735a3233-e418-4d97-93a5-3f50903ee18f",
   "metadata": {},
   "source": [
    "### Visulizations"
   ]
  },
  {
   "cell_type": "markdown",
   "id": "c66a7109-3049-441d-bd6f-df69f9574564",
   "metadata": {},
   "source": [
    "### Step 20: Training vs Validation Accuracy"
   ]
  },
  {
   "cell_type": "markdown",
   "id": "6284a90b-da1d-4985-9c3a-332ec9d0502b",
   "metadata": {},
   "source": [
    "#### This code visualizes how the model's training and validation accuracy improved over each epoch."
   ]
  },
  {
   "cell_type": "code",
   "execution_count": 143,
   "id": "99d66331-8528-4332-b8b6-f56d3301440b",
   "metadata": {},
   "outputs": [
    {
     "data": {
      "image/png": "[encoded data removed]",
      "text/plain": [
       "<Figure size 1200x500 with 1 Axes>"
      ]
     },
     "metadata": {},
     "output_type": "display_data"
    }
   ],
   "source": [
    "plt.figure(figsize=(12, 5))  # figure size for the plots\n",
    "\n",
    "#  Accuracy Plot\n",
    "plt.subplot(1, 2, 1)  # First plot in a 1-row, 2-column layout\n",
    "plt.plot(history.history['accuracy'], label='Train Accuracy', marker='o', color='green')  # Plot training accuracy\n",
    "plt.plot(history.history['val_accuracy'], label='Val Accuracy', marker='x', color='orange')  # Plot validation accuracy\n",
    "plt.title('Accuracy')  # Title of the plot\n",
    "plt.xlabel('Epochs')  # X-axis label\n",
    "plt.ylabel('Accuracy')  # Y-axis label\n",
    "plt.legend()  # A small box that shows what each line or color represents.\n",
    "plt.grid(True)  # Add gridlines for better readability\n",
    "plt.tight_layout()  # Adjust spacing to prevent overlap\n",
    "plt.show()  # Display the plot"
   ]
  },
  {
   "cell_type": "markdown",
   "id": "27c0a64e-80b5-4b29-ac65-19f6e225bb1c",
   "metadata": {},
   "source": [
    "### Step 21:Loss Comparison During Training"
   ]
  },
  {
   "cell_type": "markdown",
   "id": "e71c1774-458e-4832-b3a0-babc48e88900",
   "metadata": {},
   "source": [
    "#### This plot shows how the model’s training and validation loss changed over each epoch to measure learning progress."
   ]
  },
  {
   "cell_type": "code",
   "execution_count": 145,
   "id": "843f2aec-9a0d-434f-817b-e1816ef7ba17",
   "metadata": {},
   "outputs": [
    {
     "data": {
      "image/png": "[encoded data removed]",
      "text/plain": [
       "<Figure size 1200x500 with 1 Axes>"
      ]
     },
     "metadata": {},
     "output_type": "display_data"
    }
   ],
   "source": [
    "plt.figure(figsize=(12, 5))  # Set figure size\n",
    "\n",
    "# Loss Plot\n",
    "plt.subplot(1, 2, 2)  # Second plot in a 1-row, 2-column layout\n",
    "plt.plot(history.history['loss'], label='Train Loss', marker='o', color='blue')  # Training loss\n",
    "plt.plot(history.history['val_loss'], label='Val Loss', marker='x', color='red')  # Validation loss\n",
    "plt.title('Model Loss Over Epochs')  # Title of the plot\n",
    "plt.xlabel('Epochs')  # Label for x-axis\n",
    "plt.ylabel('Loss')  # Label for y-axis\n",
    "plt.legend()  \n",
    "plt.grid(True)  # Add grid\n",
    "\n",
    "plt.tight_layout()  # Avoid overlap\n",
    "plt.show()  # Display the plot\n"
   ]
  },
  {
   "cell_type": "markdown",
   "id": "f000bab3-d14a-49e0-aaff-b881478685ed",
   "metadata": {},
   "source": [
    "### Step 22: Percentage-Wise Quality Comparison"
   ]
  },
  {
   "cell_type": "markdown",
   "id": "a1b3b1b1-bae5-40cc-9f7a-8dbc72ee239e",
   "metadata": {},
   "source": [
    "#### This shows how sure the model is for each rice type and tells which one it predicts best and worst."
   ]
  },
  {
   "cell_type": "code",
   "execution_count": 149,
   "id": "1cd20d9d-98bb-49e2-bb6c-a3c161d15541",
   "metadata": {},
   "outputs": [
    {
     "data": {
      "image/png": "[encoded data removed]",
      "text/plain": [
       "<Figure size 800x500 with 1 Axes>"
      ]
     },
     "metadata": {},
     "output_type": "display_data"
    },
    {
     "name": "stdout",
     "output_type": "stream",
     "text": [
      " Highest Quality (Confidence): Jasmine\n",
      " Lowest Quality (Confidence): ipsala\n"
     ]
    }
   ],
   "source": [
    "#  Calculate prediction confidence % for each class\n",
    "# For each rice type, calculate the average confidence where it was the true label\n",
    "percentages = [np.mean(y_pred_probs[val_gen.classes == i, i]) * 100 for i in range(4)]\n",
    "\n",
    "#  Show the confidence percentages as a bar chart\n",
    "plt.figure(figsize=(8, 5))  # Set the figure size\n",
    "plt.bar(class_names, percentages, color=['orange', 'green', 'skyblue', 'pink'])  # Create bar chart\n",
    "plt.title(\"Average Confidence % by Rice Type\")  # Set chart title\n",
    "plt.ylabel(\"Prediction Confidence (%)\")  # Set y-axis label\n",
    "\n",
    "# Add confidence value labels above each bar\n",
    "for i, v in enumerate(percentages):\n",
    "    plt.text(i, v + 1, f\"{v:.2f}%\", ha='center', fontweight='bold')\n",
    "\n",
    "plt.ylim(0, 110)  # Set y-axis limit\n",
    "plt.grid(True, axis='y')  # Add horizontal grid lines\n",
    "plt.show()  # Display the plot\n",
    "\n",
    "#  Identify the highest and lowest confidence rice types\n",
    "highest = class_names[np.argmax(percentages)]  # Class with highest average confidence\n",
    "lowest = class_names[np.argmin(percentages)]  # Class with lowest average confidence\n",
    "\n",
    "# Print the results\n",
    "print(f\" Highest Quality (Confidence): {highest}\")\n",
    "print(f\" Lowest Quality (Confidence): {lowest}\")\n"
   ]
  },
  {
   "cell_type": "markdown",
   "id": "648c5960-b8f1-4818-bffa-c4bd9c018225",
   "metadata": {},
   "source": [
    "### Step 23: Count Correct & Incorrect Predictions for Each Rice Type"
   ]
  },
  {
   "cell_type": "markdown",
   "id": "94ce35dc-5775-4a7e-aec0-f13135370e12",
   "metadata": {},
   "source": [
    "#### This step shows how many times the model got each rice type right or wrong.It helps us understand which rice types are easier or harder for the model to predict."
   ]
  },
  {
   "cell_type": "code",
   "execution_count": 186,
   "id": "56a52630-f71b-46b3-9569-bb428dd45c55",
   "metadata": {},
   "outputs": [
    {
     "data": {
      "image/png": "[encoded data removed]",
      "text/plain": [
       "<Figure size 1000x500 with 1 Axes>"
      ]
     },
     "metadata": {},
     "output_type": "display_data"
    }
   ],
   "source": [
    "import numpy as np\n",
    "import matplotlib.pyplot as plt\n",
    "\n",
    "# Initialize counts\n",
    "correct_per_class = [0] * len(class_names)\n",
    "incorrect_per_class = [0] * len(class_names)\n",
    "\n",
    "# Go through each prediction\n",
    "for i in range(len(y_true)):\n",
    "    true = y_true[i]\n",
    "    pred = y_pred[i]\n",
    "    if true == pred:\n",
    "        correct_per_class[true] += 1\n",
    "    else:\n",
    "        incorrect_per_class[true] += 1\n",
    "\n",
    "# Bar plot for each class\n",
    "x = np.arange(len(class_names))\n",
    "width = 0.35\n",
    "\n",
    "plt.figure(figsize=(10, 5))\n",
    "plt.bar(x - width/2, correct_per_class, width, label='Correct', color='green')\n",
    "plt.bar(x + width/2, incorrect_per_class, width, label='Incorrect', color='navy')\n",
    "\n",
    "plt.xlabel(\"Rice Types\")\n",
    "plt.ylabel(\"Number of Predictions\")\n",
    "plt.title(\"Correct vs Incorrect Predictions per Rice Type\")\n",
    "plt.xticks(x, class_names)\n",
    "plt.legend()\n",
    "plt.grid(True, axis='y')\n",
    "plt.tight_layout()\n",
    "plt.show()\n"
   ]
  },
  {
   "cell_type": "markdown",
   "id": "fb93f8db-30ca-4b73-9c52-7f0957a6a013",
   "metadata": {},
   "source": [
    "### Step 24: Global View of the Most Demanded Rice Type"
   ]
  },
  {
   "cell_type": "markdown",
   "id": "813f059f-8c80-4ba1-8055-2554e5a1600a",
   "metadata": {},
   "source": [
    "#### This step shows the most popular rice type across the world and marks its location on the map."
   ]
  },
  {
   "cell_type": "markdown",
   "id": "b54ec03e-46b8-4686-a05d-6b5d53f42bf5",
   "metadata": {},
   "source": [
    "#### 4 Rice Types:\n",
    "\n",
    "Basmati – India / Pakistan   🟢\n",
    "\n",
    "Arborio – Italy              🔴\n",
    "\n",
    "Jasmine – Thailand           🔵 \n",
    "\n",
    "Ipsala – Turkey              🟣"
   ]
  },
  {
   "cell_type": "code",
   "execution_count": 155,
   "id": "e6d92c9c-bf9c-43f9-9256-efe9902a70e0",
   "metadata": {},
   "outputs": [
    {
     "data": {
      "text/html": [
       "<div style=\"width:100%;\"><div style=\"position:relative;width:100%;height:0;padding-bottom:60%;\"><span style=\"color:#565656\">Make this Notebook Trusted to load map: File -> Trust Notebook</span><iframe srcdoc=\"&lt;!DOCTYPE html&gt;\n",
       "&lt;html&gt;\n",
       "&lt;head&gt;\n",
       "    \n",
       "    &lt;meta http-equiv=&quot;content-type&quot; content=&quot;text/html; charset=UTF-8&quot; /&gt;\n",
       "    \n",
       "        &lt;script&gt;\n",
       "            L_NO_TOUCH = false;\n",
       "            L_DISABLE_3D = false;\n",
       "        &lt;/script&gt;\n",
       "    \n",
       "    &lt;style&gt;html, body {width: 100%;height: 100%;margin: 0;padding: 0;}&lt;/style&gt;\n",
       "    &lt;style&gt;#map {position:absolute;top:0;bottom:0;right:0;left:0;}&lt;/style&gt;\n",
       "    &lt;script src=&quot;https://cdn.jsdelivr.net/npm/leaflet@1.9.3/dist/leaflet.js&quot;&gt;&lt;/script&gt;\n",
       "    &lt;script src=&quot;https://code.jquery.com/jquery-3.7.1.min.js&quot;&gt;&lt;/script&gt;\n",
       "    &lt;script src=&quot;https://cdn.jsdelivr.net/npm/bootstrap@5.2.2/dist/js/bootstrap.bundle.min.js&quot;&gt;&lt;/script&gt;\n",
       "    &lt;script src=&quot;https://cdnjs.cloudflare.com/ajax/libs/Leaflet.awesome-markers/2.0.2/leaflet.awesome-markers.js&quot;&gt;&lt;/script&gt;\n",
       "    &lt;link rel=&quot;stylesheet&quot; href=&quot;https://cdn.jsdelivr.net/npm/leaflet@1.9.3/dist/leaflet.css&quot;/&gt;\n",
       "    &lt;link rel=&quot;stylesheet&quot; href=&quot;https://cdn.jsdelivr.net/npm/bootstrap@5.2.2/dist/css/bootstrap.min.css&quot;/&gt;\n",
       "    &lt;link rel=&quot;stylesheet&quot; href=&quot;https://netdna.bootstrapcdn.com/bootstrap/3.0.0/css/bootstrap-glyphicons.css&quot;/&gt;\n",
       "    &lt;link rel=&quot;stylesheet&quot; href=&quot;https://cdn.jsdelivr.net/npm/@fortawesome/fontawesome-free@6.2.0/css/all.min.css&quot;/&gt;\n",
       "    &lt;link rel=&quot;stylesheet&quot; href=&quot;https://cdnjs.cloudflare.com/ajax/libs/Leaflet.awesome-markers/2.0.2/leaflet.awesome-markers.css&quot;/&gt;\n",
       "    &lt;link rel=&quot;stylesheet&quot; href=&quot;https://cdn.jsdelivr.net/gh/python-visualization/folium/folium/templates/leaflet.awesome.rotate.min.css&quot;/&gt;\n",
       "    \n",
       "            &lt;meta name=&quot;viewport&quot; content=&quot;width=device-width,\n",
       "                initial-scale=1.0, maximum-scale=1.0, user-scalable=no&quot; /&gt;\n",
       "            &lt;style&gt;\n",
       "                #map_f9efe9e1828d9f8662bbdcc990f62b26 {\n",
       "                    position: relative;\n",
       "                    width: 100.0%;\n",
       "                    height: 100.0%;\n",
       "                    left: 0.0%;\n",
       "                    top: 0.0%;\n",
       "                }\n",
       "                .leaflet-container { font-size: 1rem; }\n",
       "            &lt;/style&gt;\n",
       "        \n",
       "&lt;/head&gt;\n",
       "&lt;body&gt;\n",
       "    \n",
       "    \n",
       "            &lt;div class=&quot;folium-map&quot; id=&quot;map_f9efe9e1828d9f8662bbdcc990f62b26&quot; &gt;&lt;/div&gt;\n",
       "        \n",
       "&lt;/body&gt;\n",
       "&lt;script&gt;\n",
       "    \n",
       "    \n",
       "            var map_f9efe9e1828d9f8662bbdcc990f62b26 = L.map(\n",
       "                &quot;map_f9efe9e1828d9f8662bbdcc990f62b26&quot;,\n",
       "                {\n",
       "                    center: [20.0, 0.0],\n",
       "                    crs: L.CRS.EPSG3857,\n",
       "                    ...{\n",
       "  &quot;zoom&quot;: 2,\n",
       "  &quot;zoomControl&quot;: true,\n",
       "  &quot;preferCanvas&quot;: false,\n",
       "}\n",
       "\n",
       "                }\n",
       "            );\n",
       "\n",
       "            \n",
       "\n",
       "        \n",
       "    \n",
       "            var tile_layer_0262e51920340d1540b80b161f145f81 = L.tileLayer(\n",
       "                &quot;https://{s}.basemaps.cartocdn.com/light_all/{z}/{x}/{y}{r}.png&quot;,\n",
       "                {\n",
       "  &quot;minZoom&quot;: 0,\n",
       "  &quot;maxZoom&quot;: 20,\n",
       "  &quot;maxNativeZoom&quot;: 20,\n",
       "  &quot;noWrap&quot;: false,\n",
       "  &quot;attribution&quot;: &quot;\\u0026copy; \\u003ca href=\\&quot;https://www.openstreetmap.org/copyright\\&quot;\\u003eOpenStreetMap\\u003c/a\\u003e contributors \\u0026copy; \\u003ca href=\\&quot;https://carto.com/attributions\\&quot;\\u003eCARTO\\u003c/a\\u003e&quot;,\n",
       "  &quot;subdomains&quot;: &quot;abcd&quot;,\n",
       "  &quot;detectRetina&quot;: false,\n",
       "  &quot;tms&quot;: false,\n",
       "  &quot;opacity&quot;: 1,\n",
       "}\n",
       "\n",
       "            );\n",
       "        \n",
       "    \n",
       "            tile_layer_0262e51920340d1540b80b161f145f81.addTo(map_f9efe9e1828d9f8662bbdcc990f62b26);\n",
       "        \n",
       "    \n",
       "            var marker_fe6b80e27c0782a277e13e9304cf64f4 = L.marker(\n",
       "                [30.3753, 69.3451],\n",
       "                {\n",
       "}\n",
       "            ).addTo(map_f9efe9e1828d9f8662bbdcc990f62b26);\n",
       "        \n",
       "    \n",
       "            var icon_0668424908e4ba74733a0d255920a417 = L.AwesomeMarkers.icon(\n",
       "                {\n",
       "  &quot;markerColor&quot;: &quot;green&quot;,\n",
       "  &quot;iconColor&quot;: &quot;white&quot;,\n",
       "  &quot;icon&quot;: &quot;info-sign&quot;,\n",
       "  &quot;prefix&quot;: &quot;glyphicon&quot;,\n",
       "  &quot;extraClasses&quot;: &quot;fa-rotate-0&quot;,\n",
       "}\n",
       "            );\n",
       "        \n",
       "    \n",
       "        var popup_997649743a7d2a29250e2f1f56c96627 = L.popup({\n",
       "  &quot;maxWidth&quot;: &quot;100%&quot;,\n",
       "});\n",
       "\n",
       "        \n",
       "            \n",
       "                var html_37b0c1caae34e3a965c588573a01b44e = $(`&lt;div id=&quot;html_37b0c1caae34e3a965c588573a01b44e&quot; style=&quot;width: 100.0%; height: 100.0%;&quot;&gt;&lt;b&gt;Basmati Rice&lt;/b&gt;&lt;br&gt;Famous aromatic long-grain rice grown in India &amp; Pakistan. Used in biryanis.&lt;/div&gt;`)[0];\n",
       "                popup_997649743a7d2a29250e2f1f56c96627.setContent(html_37b0c1caae34e3a965c588573a01b44e);\n",
       "            \n",
       "        \n",
       "\n",
       "        marker_fe6b80e27c0782a277e13e9304cf64f4.bindPopup(popup_997649743a7d2a29250e2f1f56c96627)\n",
       "        ;\n",
       "\n",
       "        \n",
       "    \n",
       "    \n",
       "                marker_fe6b80e27c0782a277e13e9304cf64f4.setIcon(icon_0668424908e4ba74733a0d255920a417);\n",
       "            \n",
       "    \n",
       "            var marker_179689aaa8613fae97c89908c483b167 = L.marker(\n",
       "                [45.0703, 7.6869],\n",
       "                {\n",
       "}\n",
       "            ).addTo(map_f9efe9e1828d9f8662bbdcc990f62b26);\n",
       "        \n",
       "    \n",
       "            var icon_a521fa0b17932a9b90fb4ae765384c6f = L.AwesomeMarkers.icon(\n",
       "                {\n",
       "  &quot;markerColor&quot;: &quot;red&quot;,\n",
       "  &quot;iconColor&quot;: &quot;white&quot;,\n",
       "  &quot;icon&quot;: &quot;info-sign&quot;,\n",
       "  &quot;prefix&quot;: &quot;glyphicon&quot;,\n",
       "  &quot;extraClasses&quot;: &quot;fa-rotate-0&quot;,\n",
       "}\n",
       "            );\n",
       "        \n",
       "    \n",
       "        var popup_ed4d481211db46990feeb677dd81152d = L.popup({\n",
       "  &quot;maxWidth&quot;: &quot;100%&quot;,\n",
       "});\n",
       "\n",
       "        \n",
       "            \n",
       "                var html_4163b60080e55908f1aa59778dc34aa0 = $(`&lt;div id=&quot;html_4163b60080e55908f1aa59778dc34aa0&quot; style=&quot;width: 100.0%; height: 100.0%;&quot;&gt;&lt;b&gt;Arborio Rice&lt;/b&gt;&lt;br&gt;Short-grain Italian rice used for creamy risottos.&lt;/div&gt;`)[0];\n",
       "                popup_ed4d481211db46990feeb677dd81152d.setContent(html_4163b60080e55908f1aa59778dc34aa0);\n",
       "            \n",
       "        \n",
       "\n",
       "        marker_179689aaa8613fae97c89908c483b167.bindPopup(popup_ed4d481211db46990feeb677dd81152d)\n",
       "        ;\n",
       "\n",
       "        \n",
       "    \n",
       "    \n",
       "                marker_179689aaa8613fae97c89908c483b167.setIcon(icon_a521fa0b17932a9b90fb4ae765384c6f);\n",
       "            \n",
       "    \n",
       "            var marker_134d70aeaaaee634c1fb2ab11cce086f = L.marker(\n",
       "                [15.87, 100.9925],\n",
       "                {\n",
       "}\n",
       "            ).addTo(map_f9efe9e1828d9f8662bbdcc990f62b26);\n",
       "        \n",
       "    \n",
       "            var icon_400e53bc163e924a9fb0657a5306dd75 = L.AwesomeMarkers.icon(\n",
       "                {\n",
       "  &quot;markerColor&quot;: &quot;blue&quot;,\n",
       "  &quot;iconColor&quot;: &quot;white&quot;,\n",
       "  &quot;icon&quot;: &quot;info-sign&quot;,\n",
       "  &quot;prefix&quot;: &quot;glyphicon&quot;,\n",
       "  &quot;extraClasses&quot;: &quot;fa-rotate-0&quot;,\n",
       "}\n",
       "            );\n",
       "        \n",
       "    \n",
       "        var popup_a89354f2d67427975c71412f946bf0f5 = L.popup({\n",
       "  &quot;maxWidth&quot;: &quot;100%&quot;,\n",
       "});\n",
       "\n",
       "        \n",
       "            \n",
       "                var html_1579dea29caaf52cb92b08b1de6f235b = $(`&lt;div id=&quot;html_1579dea29caaf52cb92b08b1de6f235b&quot; style=&quot;width: 100.0%; height: 100.0%;&quot;&gt;&lt;b&gt;Jasmine Rice&lt;/b&gt;&lt;br&gt;Fragrant long-grain rice popular in Southeast Asia.&lt;/div&gt;`)[0];\n",
       "                popup_a89354f2d67427975c71412f946bf0f5.setContent(html_1579dea29caaf52cb92b08b1de6f235b);\n",
       "            \n",
       "        \n",
       "\n",
       "        marker_134d70aeaaaee634c1fb2ab11cce086f.bindPopup(popup_a89354f2d67427975c71412f946bf0f5)\n",
       "        ;\n",
       "\n",
       "        \n",
       "    \n",
       "    \n",
       "                marker_134d70aeaaaee634c1fb2ab11cce086f.setIcon(icon_400e53bc163e924a9fb0657a5306dd75);\n",
       "            \n",
       "    \n",
       "            var marker_7470f9c98decb6856c1140cfb219c107 = L.marker(\n",
       "                [40.9181, 26.3843],\n",
       "                {\n",
       "}\n",
       "            ).addTo(map_f9efe9e1828d9f8662bbdcc990f62b26);\n",
       "        \n",
       "    \n",
       "            var icon_8248ffcb0eb3b6a7c4f8b0eee280f36a = L.AwesomeMarkers.icon(\n",
       "                {\n",
       "  &quot;markerColor&quot;: &quot;purple&quot;,\n",
       "  &quot;iconColor&quot;: &quot;white&quot;,\n",
       "  &quot;icon&quot;: &quot;info-sign&quot;,\n",
       "  &quot;prefix&quot;: &quot;glyphicon&quot;,\n",
       "  &quot;extraClasses&quot;: &quot;fa-rotate-0&quot;,\n",
       "}\n",
       "            );\n",
       "        \n",
       "    \n",
       "        var popup_86b985c71ddb50c05110241a77281554 = L.popup({\n",
       "  &quot;maxWidth&quot;: &quot;100%&quot;,\n",
       "});\n",
       "\n",
       "        \n",
       "            \n",
       "                var html_7f5d72596f4cd0685f5be873e37d42ed = $(`&lt;div id=&quot;html_7f5d72596f4cd0685f5be873e37d42ed&quot; style=&quot;width: 100.0%; height: 100.0%;&quot;&gt;&lt;b&gt;Ipsala Rice&lt;/b&gt;&lt;br&gt;Premium Turkish rice from the Edirne region, known for exports.&lt;/div&gt;`)[0];\n",
       "                popup_86b985c71ddb50c05110241a77281554.setContent(html_7f5d72596f4cd0685f5be873e37d42ed);\n",
       "            \n",
       "        \n",
       "\n",
       "        marker_7470f9c98decb6856c1140cfb219c107.bindPopup(popup_86b985c71ddb50c05110241a77281554)\n",
       "        ;\n",
       "\n",
       "        \n",
       "    \n",
       "    \n",
       "                marker_7470f9c98decb6856c1140cfb219c107.setIcon(icon_8248ffcb0eb3b6a7c4f8b0eee280f36a);\n",
       "            \n",
       "&lt;/script&gt;\n",
       "&lt;/html&gt;\" style=\"position:absolute;width:100%;height:100%;left:0;top:0;border:none !important;\" allowfullscreen webkitallowfullscreen mozallowfullscreen></iframe></div></div>"
      ],
      "text/plain": [
       "<folium.folium.Map at 0x1883ab73d40>"
      ]
     },
     "execution_count": 155,
     "metadata": {},
     "output_type": "execute_result"
    }
   ],
   "source": [
    "import folium  # For creating interactive maps\n",
    "from folium.plugins import MarkerCluster  # (Optional) For clustering markers if needed\n",
    "\n",
    "# Step 1: Define rice types with their global locations and details\n",
    "rice_origins = [\n",
    "    {\n",
    "        \"name\": \"Basmati Rice\",\n",
    "        \"location\": [30.3753, 69.3451],  # Region of India/Pakistan\n",
    "        \"description\": \"Famous aromatic long-grain rice grown in India & Pakistan. Used in biryanis.\",\n",
    "        \"color\": \"green\"  # Marker color\n",
    "    },\n",
    "    {\n",
    "        \"name\": \"Arborio Rice\",\n",
    "        \"location\": [45.0703, 7.6869],  # Northern Italy\n",
    "        \"description\": \"Short-grain Italian rice used for creamy risottos.\",\n",
    "        \"color\": \"red\"\n",
    "    },\n",
    "    {\n",
    "        \"name\": \"Jasmine Rice\",\n",
    "        \"location\": [15.8700, 100.9925],  # Thailand\n",
    "        \"description\": \"Fragrant long-grain rice popular in Southeast Asia.\",\n",
    "        \"color\": \"blue\"\n",
    "    },\n",
    "    {\n",
    "        \"name\": \"Ipsala Rice\",\n",
    "        \"location\": [40.9181, 26.3843],  # Turkey\n",
    "        \"description\": \"Premium Turkish rice from the Edirne region, known for exports.\",\n",
    "        \"color\": \"purple\"\n",
    "    }\n",
    "]\n",
    "\n",
    "# Step 2: Create a world map centered at latitude 20, longitude 0\n",
    "rice_map = folium.Map(location=[20, 0], zoom_start=2, tiles=\"CartoDB positron\")\n",
    "\n",
    "# Step 3: Add colored markers for each rice type with popup info\n",
    "for rice in rice_origins:\n",
    "    folium.Marker(\n",
    "        location=rice[\"location\"],  # Marker location\n",
    "        popup=f\"<b>{rice['name']}</b><br>{rice['description']}\",  # Info box\n",
    "        icon=folium.Icon(color=rice[\"color\"])  # Marker color based on rice type\n",
    "    ).add_to(rice_map)\n",
    "\n",
    "# Step 4: Display the map\n",
    "rice_map\n"
   ]
  },
  {
   "cell_type": "markdown",
   "id": "1c3f712c-d804-48e3-8a2f-0b6e6e82beee",
   "metadata": {},
   "source": [
    "### Step 25: Show the Best Predicted Rice with Image"
   ]
  },
  {
   "cell_type": "markdown",
   "id": "cb5775ea-eba2-4dfc-a193-dae856d52a5e",
   "metadata": {},
   "source": [
    "#### This step finds the rice image that the model predicted with the highest confidence.It then displays the image, prediction confidence, and explains why that rice is popular."
   ]
  },
  {
   "cell_type": "code",
   "execution_count": 165,
   "id": "4e188a08-7f2b-4a67-bf4a-133a55e2f127",
   "metadata": {},
   "outputs": [
    {
     "data": {
      "image/png": "[encoded data removed]",
      "text/plain": [
       "<Figure size 500x500 with 1 Axes>"
      ]
     },
     "metadata": {},
     "output_type": "display_data"
    },
    {
     "name": "stdout",
     "output_type": "stream",
     "text": [
      " Based on model confidence, 'Basmati' is the top predicted rice.\n",
      " Basmati is known globally for its aroma and long grains – high demand in exports.\n"
     ]
    }
   ],
   "source": [
    "import matplotlib.pyplot as plt\n",
    "import numpy as np\n",
    "import os\n",
    "from tensorflow.keras.preprocessing.image import load_img\n",
    "\n",
    "# 1. Get the index of the most confidently predicted image\n",
    "confidences = np.max(y_pred_probs, axis=1)  # Max probability for each prediction\n",
    "top_idx = np.argmax(confidences)  # Index of the highest confidence\n",
    "\n",
    "# 2. Get the image file name, predicted class, and confidence score\n",
    "top_file = val_gen.filenames[top_idx]  # File name of top prediction\n",
    "top_class = class_names[y_pred[top_idx]]  # Class name\n",
    "confidence_score = confidences[top_idx] * 100  # Convert to percentage\n",
    "\n",
    "# 3. Load the image from validation directory\n",
    "img_path = os.path.join(val_gen.directory, top_file)\n",
    "img = load_img(img_path, target_size=(224, 224))  # Resize image\n",
    "\n",
    "# 4. Show the image with title and confidence score\n",
    "plt.figure(figsize=(5, 5))\n",
    "plt.imshow(img)\n",
    "plt.axis(\"off\")\n",
    "plt.title(f\" Most Demanded Rice: {top_class}\\nConfidence: {confidence_score:.2f}%\")\n",
    "plt.show()\n",
    "\n",
    "# 5. Print explanation based on predicted rice type\n",
    "print(f\" Based on model confidence, '{top_class}' is the top predicted rice.\")\n",
    "\n",
    "if top_class.lower() == \"basmati\":\n",
    "    print(\" Basmati is known globally for its aroma and long grains – high demand in exports.\")\n",
    "elif top_class.lower() == \"jasmine\":\n",
    "    print(\" Jasmine is a top choice in Southeast Asia for its fragrance and softness.\")\n",
    "elif top_class.lower() == \"arborio\":\n",
    "    print(\" Arborio is valued in Italian cuisine for creamy risottos – high gourmet value.\")\n",
    "elif top_class.lower() == \"ipsala\":\n",
    "    print(\"🇹🇷 Ipsala is premium Turkish rice, known for purity and quality in exports.\")\n",
    "else:\n",
    "    print(\" No specific description available for this rice type.\")\n"
   ]
  }
 ],
 "metadata": {
  "kernelspec": {
   "display_name": "Python 3 (ipykernel)",
   "language": "python",
   "name": "python3"
  },
  "language_info": {
   "codemirror_mode": {
    "name": "ipython",
    "version": 3
   },
   "file_extension": ".py",
   "mimetype": "text/x-python",
   "name": "python",
   "nbconvert_exporter": "python",
   "pygments_lexer": "ipython3",
   "version": "3.12.7"
  }
 },
 "nbformat": 4,
 "nbformat_minor": 5
}
